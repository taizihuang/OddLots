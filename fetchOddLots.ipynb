{
 "cells": [
  {
   "cell_type": "code",
   "execution_count": 2,
   "metadata": {},
   "outputs": [],
   "source": [
    "from fetchOddLots import fetchOddLots, genHTML\n",
    "import os\n",
    "os.environ['https_proxy'] = 'http://127.0.0.1:7890'\n",
    "os.environ['http_proxy'] = 'http://127.0.0.1:7890'\n"
   ]
  },
  {
   "cell_type": "code",
   "execution_count": 10,
   "metadata": {},
   "outputs": [],
   "source": [
    "df = fetchOddLots('https://www.bloomberg.com/news/articles/2023-06-14/china-convenes-urgent-meetings-on-economy-with-business-leaders#xj4y7vzkg',\"China\")"
   ]
  },
  {
   "cell_type": "code",
   "execution_count": 11,
   "metadata": {},
   "outputs": [],
   "source": [
    "genHTML(df)"
   ]
  },
  {
   "cell_type": "code",
   "execution_count": 6,
   "metadata": {},
   "outputs": [],
   "source": [
    "import requests,json\n",
    "from bs4 import BeautifulSoup\n",
    "\n",
    "headers = {\n",
    "    'referer': 'https://www.bloomberg.com/oddlots',\n",
    "    'user-agent': 'Mozilla/5.0 (iPhone; CPU iPhone OS 13_2_3 like Mac OS X) AppleWebKit/605.1.15 (KHTML, like Gecko) Version/13.0.3 Mobile/15E148 Safari/604.1'\n",
    "}\n",
    "url = 'https://www.bloomberg.com/news/articles/2023-06-14/china-convenes-urgent-meetings-on-economy-with-business-leaders#xj4y7vzkg'\n",
    "docs = requests.get(url,headers=headers).content\n",
    "doc = BeautifulSoup(docs,features='lxml')\n",
    "doc1 = json.loads(doc.find('script',{'data-component-props':\"ArticleBody\"}).string)"
   ]
  },
  {
   "cell_type": "code",
   "execution_count": 9,
   "metadata": {},
   "outputs": [
    {
     "data": {
      "text/plain": [
       "'<div class=\"inline-newsletter-top\"></div><p>Senior Chinese officials are soliciting advice from business leaders and economists on how to revitalize the economy in a flurry of meetings attendees have characterized as unusually urgent in their tone.</p><p>Top officials have held at least six consultations in recent weeks with the executives, according to people present who asked not to be identified when discussing sensitive issues.&#xA0;</p><p class=\"paywall\">Leaders pressed those assembled for ideas on ways to stimulate the economy, restore confidence in the private sector and revive the real estate industry, the people said. In response, the business leaders and economists called on the government to make urgent policy revisions and adopt a more market-oriented, rather than planning-led, approach to growth, they said.</p><p class=\"paywall\">There was a consensus among high-level government officials and some 10 people present at one meeting about two weeks ago that more and better-coordinated monetary and fiscal stimulus is needed, according to one participant. All those present shared pressing concerns over the ambiguity of the timing and form of any stimulus, the person said.</p>\\n        <div id=\"box-iEt3AKx\" class=\"mobile-box page-ad paywall\" data-position=\"mobile-box\" data-ad-placeholder=\"Advertisement\">\\n            \\n        <script type=\"application/javascript\">window.__bloomberg__.ads.enqueue(\"box-iEt3AKx\");</script>\\n        <script class=\"params\" type=\"application/json\">{\"contentId\":\"RW4HB9T0AFB401\",\"position\":\"box\",\"dimensions\":{\"mobile\":[[300,250],[3,3],[5,24],[1,1],\"fluid\"]},\"type\":\"Mobile Body Box Ad\",\"positionIncrement\":1,\"targeting\":{\"position\":\"box1\",\"positionIncrement\":1,\"url\":\"/news/articles/2023-06-14/china-convenes-urgent-meetings-on-economy-with-business-leaders\"},\"containerId\":\"box-iEt3AKx\"}</script>\\n    \\n        </div>\\n    \\n        <div id=\"desktop-in-article-1-RW4HB9T0AFB401\" class=\"desktop-in-article page-ad paywall\" data-position=\"desktop-in-article\" data-ad-placeholder=\"Advertisement\">\\n            \\n        <script type=\"application/javascript\">window.__bloomberg__.ads.enqueue(\"desktop-in-article-1-RW4HB9T0AFB401\");</script>\\n        <script class=\"params\" type=\"application/json\">{\"contentId\":\"RW4HB9T0AFB401\",\"position\":\"desktop-in-article1\",\"dimensions\":{\"large_desktop\":[[300,250],[5,4],[3,3],[5,24]],\"small_desktop\":[[300,250],[5,4],[3,3],[5,24]]},\"type\":\"Desktop in article Native Ad\",\"targeting\":{\"position\":\"desktop-in-article1\",\"url\":\"/news/articles/2023-06-14/china-convenes-urgent-meetings-on-economy-with-business-leaders\"},\"containerId\":\"desktop-in-article-1-RW4HB9T0AFB401\"}</script>\\n    \\n        </div>\\n    <p class=\"paywall\">The State Council didn&#x2019;t reply to a request for comment on the meetings.</p><div class=\"inline-newsletter-middle paywall\"></div><p class=\"paywall\">The meetings come as China is struggling with a post-pandemic economic recovery stifled by weak <a href=\"https://www.bloomberg.com/news/articles/2023-06-13/china-s-stimulus-runs-into-wall-of-doubts-in-a-bearish-market\" title=\"China&#x2019;s Stimulus Runs Into Wall of Doubts in a Bearish Market\" target=\"_blank\"><meta content=\"StoryLink\"><meta content=\"RW66AWT1UM0W\">sentiment</a> that&#x2019;s proving hard to reverse, after Covid lockdowns and a series of abrupt policy crackdowns. Beijing now appears to be gearing up to take more decisive action to counter the downturn, with the central bank unexpectedly cutting interest rates this week and people familiar with the matter saying officials are discussing a <a href=\"https://www.bloomberg.com/news/articles/2023-06-13/china-weighs-broad-stimulus-with-property-support-rate-cuts\" title=\"China Weighs Broad Stimulus With Property Support, Rate Cuts (1)\" target=\"_blank\"><meta content=\"StoryLink\"><meta content=\"RW6JXLT1UM0W\">broad</a> package of stimulus measures, including for the faltering property market.</p><p class=\"paywall\">Data set to be released on Thursday is likely to show China&#x2019;s economy slowed further in May, with retail sales growth moderating, industrial production weakening and fixed-asset investment continuing to struggle. The People&#x2019;s Bank of China is expected to cut a key policy interest rate on Thursday, which would allow banks to lower lending rates next week.&#xA0;</p><h3 id=\"seeking-solutions\" class=\"paywall\">Seeking Solutions</h3><div class=\"for-you__wrapper paywall\"></div><p class=\"paywall\">Two people at several of the meetings said officials acknowledged China&#x2019;s economy was facing a critical period and displayed an impetus to finding solutions they hadn&#x2019;t seen before.&#xA0;</p>\\n        <div id=\"in-article-1-RW4HB9T0AFB401\" class=\"in-article page-ad hide_on_small_desktop hide_on_large_desktop paywall\" data-position=\"in-article\" data-ad-placeholder=\"Advertisement\">\\n            \\n        <script type=\"application/javascript\">window.__bloomberg__.ads.enqueue(\"in-article-1-RW4HB9T0AFB401\");</script>\\n        <script class=\"params\" type=\"application/json\">{\"contentId\":\"RW4HB9T0AFB401\",\"position\":\"in-article1\",\"dimensions\":{\"mobile\":[[5,19],[300,250],[5,24],[3,3],[1,1],\"fluid\"],\"tablet\":[[5,11],[728,90],[5,24],[1,1]]},\"type\":\"In Article Flex Native Ad\",\"positionIncrement\":1,\"targeting\":{\"position\":\"in-article1\",\"positionIncrement\":1,\"url\":\"/news/articles/2023-06-14/china-convenes-urgent-meetings-on-economy-with-business-leaders\"},\"containerId\":\"in-article-1-RW4HB9T0AFB401\"}</script>\\n    \\n        </div>\\n    <aside class=\"left-rail-newsletter paywall\"></aside><p class=\"paywall\">Senior figures from regulators and other government bodies also recently met with executives in Beijing and asked for their suggestions on how to encourage private companies and overseas investors to return or expand in China, according to a person familiar with the matter.&#xA0;</p><p class=\"paywall\">&#x201C;Officials are clearly aware that the economy is not booming and animal spirits remain sluggish,&#x201D; said Christopher Beddor, deputy China research director at Gavekal Dragonomics, adding there had been concern in the business community in recent months that officials weren&#x2019;t showing enough urgency about the problems.</p><table class=\"paywall\"><tr><th class=\"news-rsf-table-string\">Read more on China&#x2019;s economic recovery</th></tr><tr><td class=\"news-rsf-table-string\"><p><a href=\"https://www.bloomberg.com/news/articles/2023-06-13/china-shifts-to-stimulus-mode-with-xi-s-options-dwindling\" title=\"China Shifts to Stimulus Mode With Xi&#x2019;s Options Dwindling (1)\" target=\"_blank\"><meta content=\"StoryLink\"><meta content=\"RW6YQYT0AFB4\">China Shifts to Stimulus Mode With Xi&#x2019;s Options Dwindling</a></p><p><a href=\"https://www.bloomberg.com/news/articles/2023-06-13/china-s-stimulus-runs-into-wall-of-doubts-in-a-bearish-market\" title=\"China&#x2019;s Stimulus Runs Into Wall of Doubts in a Bearish Market\" target=\"_blank\"><meta content=\"RW66AWT1UM0W\"><meta content=\"StoryLink\">China&#x2019;s Stimulus Runs Into Wall of Doubts in a Bearish Market</a></p><p><a href=\"https://www.bloomberg.com/news/articles/2023-06-13/china-credit-demand-weakens-in-fresh-sign-of-waning-recovery\" title=\"China Credit Demand Weakens In Fresh Sign of Waning Recovery (1)\" target=\"_blank\"><meta content=\"StoryLink\"><meta content=\"RW6MY5T1UM0W\">China Credit Demand Weakens In Fresh Sign of Waning Recovery</a></p><p><a href=\"https://www.bloomberg.com/news/articles/2023-05-18/china-faces-confidence-trap-as-economic-recovery-loses-steam\" title=\"China Faces &#x2018;Confidence Trap&#x2019; as Economic Recovery Falters (1)\" target=\"_blank\"><meta content=\"StoryLink\"><meta content=\"RUVTQIT0AFB4\">China Faces &#x2018;Confidence Trap&#x2019; as Economic Recovery Falters</a></p></td></tr></table><p class=\"paywall\">While senior state leaders regularly meet with economists and company representatives, those encounters are usually followed by an official <a href=\"https://www.bloomberg.com/news/articles/2023-06-09/china-s-central-bank-governor-reiterates-stable-policy-stance\" title=\"China Central Bank Governor Reiterates Stable Policy Stance (1)\" target=\"_blank\"><meta content=\"RVZAMDT0G1KX\"><meta content=\"StoryLink\">readout</a>. The six meetings in recent weeks didn&#x2019;t result in a statement and appeared to have been more ad-hoc in nature.</p><p class=\"paywall\">Several business heads from financial institutions have separately said they&#x2019;d also received an unusually high number of requests from regulators this year to report their business data and challenges, along with meeting invitations to discuss the economy.</p>\\n        <div id=\"desktop-in-article-2-RW4HB9T0AFB401\" class=\"desktop-in-article page-ad paywall\" data-position=\"desktop-in-article\" data-ad-placeholder=\"Advertisement\">\\n            \\n        <script type=\"application/javascript\">window.__bloomberg__.ads.enqueue(\"desktop-in-article-2-RW4HB9T0AFB401\");</script>\\n        <script class=\"params\" type=\"application/json\">{\"contentId\":\"RW4HB9T0AFB401\",\"position\":\"desktop-in-article2\",\"dimensions\":{\"large_desktop\":[[300,250],[5,4],[3,3],[5,24]],\"small_desktop\":[[300,250],[5,4],[3,3],[5,24]]},\"type\":\"Desktop in article Native Ad\",\"targeting\":{\"position\":\"desktop-in-article2\",\"url\":\"/news/articles/2023-06-14/china-convenes-urgent-meetings-on-economy-with-business-leaders\"},\"containerId\":\"desktop-in-article-2-RW4HB9T0AFB401\"}</script>\\n    \\n        </div>\\n    <p class=\"paywall\">After speaking with firms on a recent research trip to Chinese cities, Zerlina Zeng, senior credit analyst at CreditSights Singapore LLC, said that tech and education crackdowns had &#x201C;scarred&#x201D; business owners, along with policies favoring state-owned enterprises. She added: &#x201C;We&#x2019;re watching out for the Politburo meeting in <a href=\"https://www.bloomberg.com/news/articles/2023-06-06/china-s-missing-politburo-statements-fan-diminishing-data-fears\" title=\"China&#x2019;s Missing Politburo Statements Fan Fears of Data Gaps (1)\" target=\"_blank\"><meta content=\"StoryLink\"><meta content=\"RVV2VKT0G1KW\">July</a> for more structural reforms to address the weak business confidence.&#x201D; &#xA0;&#xA0;</p><p class=\"paywall\"><em>&#x2014; With assistance by Rebecca Choong Wilkins and Colum Murphy</em></p><div class=\"trashline paywall\">(<span>Updates with details in seventh paragraph.</span>)</div><ol class=\"noscript-footnotes paywall\"></ol><div class=\"inline-newsletter-bottom paywall\"></div>'"
      ]
     },
     "execution_count": 9,
     "metadata": {},
     "output_type": "execute_result"
    }
   ],
   "source": [
    "doc1['story']['body']"
   ]
  }
 ],
 "metadata": {
  "interpreter": {
   "hash": "25bf1dab56f13e21d80318cd5e789e076f92a14fa9924f370a2a818164c863f4"
  },
  "kernelspec": {
   "display_name": "Python 3.9.6 64-bit",
   "language": "python",
   "name": "python3"
  },
  "language_info": {
   "codemirror_mode": {
    "name": "ipython",
    "version": 3
   },
   "file_extension": ".py",
   "mimetype": "text/x-python",
   "name": "python",
   "nbconvert_exporter": "python",
   "pygments_lexer": "ipython3",
   "version": "3.9.6"
  },
  "orig_nbformat": 4
 },
 "nbformat": 4,
 "nbformat_minor": 2
}
