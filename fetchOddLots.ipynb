{
 "cells": [
  {
   "cell_type": "code",
   "execution_count": 1,
   "metadata": {},
   "outputs": [],
   "source": [
    "import requests,os,json\n",
    "from bs4 import BeautifulSoup\n",
    "os.environ['https_proxy'] = 'http://127.0.0.1:7890'\n",
    "os.environ['http_proxy'] = 'http://127.0.0.1:7890'\n",
    "\n",
    "def fetchOddLots(url,name='oddlots'):\n",
    "    headers = {\n",
    "        'referer': 'https://www.bloomberg.com/oddlots',\n",
    "        'user-agent': 'Mozilla/5.0 (Windows NT 10.0; Win64; x64) AppleWebKit/537.36 (KHTML, like Gecko) Chrome/96.0.4664.45 Safari/537.36'}\n",
    "    docs = requests.get(url,headers=headers).content\n",
    "    doc = BeautifulSoup(docs)\n",
    "    doc1 = BeautifulSoup(json.loads(doc.find('script',{'data-component-props':\"ArticleBody\"}).string)['body'])\n",
    "    doc1.find(class_=\"thirdparty-embed__container\").decompose()\n",
    "    html = '''\n",
    "    <!DOCTYPE html>\n",
    "    <html>\n",
    "\n",
    "    <head>\n",
    "        <meta content=\"width=device-width,initial-scale=1,maximum-scale=1,user-scalable=no\" name=viewport>\n",
    "        <meta charset=utf-8>\n",
    "        <meta name=\"referrer\" content=\"no-referrer\">\n",
    "        <link rel=\"stylesheet\" href=\"./init.css\">\n",
    "        <title>Odd Lots</title>\n",
    "    </head>\n",
    "\n",
    "    <body>\n",
    "        <div class=\"BODY\">\n",
    "            <div class=\"REPLY_LI\">\n",
    "                <h2>Odd Lots</h2>\n",
    "                <audio class=\"react-audio-player\" controls=\"\" id=\"audio-player\" src=\"../audio/{}.mp3\"></audio>\n",
    "    '''.format(name)\n",
    "    html = html+str(doc1)+'</body></html>'\n",
    "    with open('./html/{}.html'.format(name),'w',encoding='utf8') as f:\n",
    "        f.write(html)"
   ]
  },
  {
   "cell_type": "code",
   "execution_count": 2,
   "metadata": {},
   "outputs": [],
   "source": [
    "fetchOddLots('https://www.bloomberg.com/news/articles/2021-11-22/transcript-here-s-why-it-s-so-hard-to-fix-the-corporate-bond-market?srnd=oddlots','20211118Larry')"
   ]
  },
  {
   "cell_type": "code",
   "execution_count": null,
   "metadata": {},
   "outputs": [],
   "source": []
  }
 ],
 "metadata": {
  "interpreter": {
   "hash": "25bf1dab56f13e21d80318cd5e789e076f92a14fa9924f370a2a818164c863f4"
  },
  "kernelspec": {
   "display_name": "Python 3.9.6 64-bit",
   "language": "python",
   "name": "python3"
  },
  "language_info": {
   "codemirror_mode": {
    "name": "ipython",
    "version": 3
   },
   "file_extension": ".py",
   "mimetype": "text/x-python",
   "name": "python",
   "nbconvert_exporter": "python",
   "pygments_lexer": "ipython3",
   "version": "3.9.6"
  },
  "orig_nbformat": 4
 },
 "nbformat": 4,
 "nbformat_minor": 2
}
