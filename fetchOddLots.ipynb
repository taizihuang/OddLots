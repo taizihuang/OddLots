{
 "cells": [
  {
   "cell_type": "code",
   "execution_count": 1,
   "metadata": {},
   "outputs": [],
   "source": [
    "from fetchOddLots import fetchOddLots, genHTML\n",
    "import os\n",
    "os.environ['https_proxy'] = 'http://127.0.0.1:7890'\n",
    "os.environ['http_proxy'] = 'http://127.0.0.1:7890'"
   ]
  },
  {
   "cell_type": "code",
   "execution_count": 2,
   "metadata": {},
   "outputs": [
    {
     "name": "stdout",
     "output_type": "stream",
     "text": [
      "https://www.bloomberg.com/news/articles/2023-07-10/richard-koo-on-china-s-risk-of-a-japan-style-balance-sheet-recession?srnd=oddlots\n",
      "<a href=https://www.amazon.com/Pursued-Economy-Understanding-Overcoming-Challenging/dp/1119984270/ref=sr_1_1?crid=3QU67V3UUBT14&keywords=pursued+economy&qid=1688992673&sprefix=pursued+economy%2Caps%2C155&sr=8-1\n",
      "<a href=https://www.amazon.com/Holy-Grail-Macroeconomics-Lessons-Recession/dp/0470824948/ref=sr_1_1?crid=2L0H1TNJ4BKJ0&keywords=The+Holy+Grail+of+Macroeconomics&qid=1688993172&sprefix=the+holy+grail+of+macroeconomics%2Caps%2C168&sr=8-1\n",
      "<a href=https://podcasts.apple.com/us/podcast/richard-koo-explains-why-the-recovery-will-be-so-difficult/id1056200096?i=1000474211676\n",
      "<a href=bbg://news/stories/RVZ7KMDWLU68\n"
     ]
    }
   ],
   "source": [
    "df = fetchOddLots('https://www.bloomberg.com/news/articles/2023-07-10/richard-koo-on-china-s-risk-of-a-japan-style-balance-sheet-recession?srnd=oddlots','test')"
   ]
  },
  {
   "cell_type": "code",
   "execution_count": 3,
   "metadata": {},
   "outputs": [
    {
     "data": {
      "text/html": [
       "<div>\n",
       "<style scoped>\n",
       "    .dataframe tbody tr th:only-of-type {\n",
       "        vertical-align: middle;\n",
       "    }\n",
       "\n",
       "    .dataframe tbody tr th {\n",
       "        vertical-align: top;\n",
       "    }\n",
       "\n",
       "    .dataframe thead th {\n",
       "        text-align: right;\n",
       "    }\n",
       "</style>\n",
       "<table border=\"1\" class=\"dataframe\">\n",
       "  <thead>\n",
       "    <tr style=\"text-align: right;\">\n",
       "      <th></th>\n",
       "      <th>date</th>\n",
       "      <th>title</th>\n",
       "      <th>link</th>\n",
       "      <th>content</th>\n",
       "    </tr>\n",
       "  </thead>\n",
       "  <tbody>\n",
       "    <tr>\n",
       "      <th>0</th>\n",
       "      <td>2023-07-10</td>\n",
       "      <td>Richard Koo on China’s Risk of a Japan-Style B...</td>\n",
       "      <td>https://www.bloomberg.com/news/articles/2023-0...</td>\n",
       "      <td>\\n    &lt;!DOCTYPE html&gt;\\n    &lt;html&gt;\\n\\n    &lt;head...</td>\n",
       "    </tr>\n",
       "  </tbody>\n",
       "</table>\n",
       "</div>"
      ],
      "text/plain": [
       "         date                                              title  \\\n",
       "0  2023-07-10  Richard Koo on China’s Risk of a Japan-Style B...   \n",
       "\n",
       "                                                link  \\\n",
       "0  https://www.bloomberg.com/news/articles/2023-0...   \n",
       "\n",
       "                                             content  \n",
       "0  \\n    <!DOCTYPE html>\\n    <html>\\n\\n    <head...  "
      ]
     },
     "execution_count": 3,
     "metadata": {},
     "output_type": "execute_result"
    }
   ],
   "source": [
    "df"
   ]
  },
  {
   "cell_type": "code",
   "execution_count": 2,
   "metadata": {},
   "outputs": [],
   "source": [
    "import requests,json\n",
    "from bs4 import BeautifulSoup\n",
    "\n",
    "headers = {\n",
    "    'referer': 'https://www.bloomberg.com/oddlots',\n",
    "    'user-agent': 'Mozilla/5.0 (iPhone; CPU iPhone OS 13_2_3 like Mac OS X) AppleWebKit/605.1.15 (KHTML, like Gecko) Version/13.0.3 Mobile/15E148 Safari/604.1'\n",
    "}\n",
    "url = 'https://www.bloomberg.com/news/articles/2023-07-10/richard-koo-on-china-s-risk-of-a-japan-style-balance-sheet-recession?srnd=oddlots'\n",
    "docs = requests.get(url,headers=headers).content\n",
    "doc = BeautifulSoup(docs,features='lxml')\n",
    "doc1 = json.loads(doc.find('script',{'id':\"__NEXT_DATA__\"}).string)"
   ]
  },
  {
   "cell_type": "code",
   "execution_count": 4,
   "metadata": {},
   "outputs": [],
   "source": []
  },
  {
   "cell_type": "code",
   "execution_count": 27,
   "metadata": {},
   "outputs": [
    {
     "name": "stdout",
     "output_type": "stream",
     "text": [
      "<a href=https://www.amazon.com/Pursued-Economy-Understanding-Overcoming-Challenging/dp/1119984270/ref=sr_1_1?crid=3QU67V3UUBT14&keywords=pursued+economy&qid=1688992673&sprefix=pursued+economy%2Caps%2C155&sr=8-1\n",
      "<a href=https://www.amazon.com/Holy-Grail-Macroeconomics-Lessons-Recession/dp/0470824948/ref=sr_1_1?crid=2L0H1TNJ4BKJ0&keywords=The+Holy+Grail+of+Macroeconomics&qid=1688993172&sprefix=the+holy+grail+of+macroeconomics%2Caps%2C168&sr=8-1\n",
      "<a href=https://podcasts.apple.com/us/podcast/richard-koo-explains-why-the-recovery-will-be-so-difficult/id1056200096?i=1000474211676\n",
      "<a href=bbg://news/stories/RVZ7KMDWLU68\n"
     ]
    }
   ],
   "source": [
    "\n",
    "\n",
    "\n",
    "\n",
    "with open('html/test.html','w') as f:\n",
    "    f.write('<html>'+format(doc1['props']['pageProps']['story']['body'])+'</html>')\n"
   ]
  },
  {
   "cell_type": "code",
   "execution_count": 29,
   "metadata": {},
   "outputs": [
    {
     "data": {
      "text/plain": [
       "'Richard Koo on China’s Risk of a Japan-Style Balance Sheet Recession'"
      ]
     },
     "execution_count": 29,
     "metadata": {},
     "output_type": "execute_result"
    }
   ],
   "source": []
  },
  {
   "cell_type": "code",
   "execution_count": 21,
   "metadata": {},
   "outputs": [
    {
     "data": {
      "text/plain": [
       "'<div style=\"left: 0; width: 100%; height: 180px; position: relative;\"><iframe src=\"https://omny.fm/shows/odd-lots/richard-koo-on-chinas-risk-of-japanification/embed?style=cover\" style=\"top: 0; left: 0; width: 100%; height: 100%; position: absolute; border: 0;\" allowfullscreen></iframe></div>'"
      ]
     },
     "execution_count": 21,
     "metadata": {},
     "output_type": "execute_result"
    }
   ],
   "source": [
    "formatSingle({'type': 'embed',\n",
    "     'host': 'omny.fm',\n",
    "     'href': 'https://omny.fm/shows/odd-lots/richard-koo-on-chinas-risk-of-japanification',\n",
    "     'data': {'class': 'bbg-embed',\n",
    "      'data-embed-id': 'https://omny.fm/shows/odd-lots/richard-koo-on-chinas-risk-of-japanification',\n",
    "      'data-type': 'iframe',\n",
    "      'href': 'https://omny.fm/shows/odd-lots/richard-koo-on-chinas-risk-of-japanification',\n",
    "      'embedId': 'https://omny.fm/shows/odd-lots/richard-koo-on-chinas-risk-of-japanification',\n",
    "      'type': 'iframe'},\n",
    "     'iframeData': {'url': 'https://omny.fm/shows/odd-lots/richard-koo-on-chinas-risk-of-japanification',\n",
    "      'rel': ['player', 'html5', 'ssl', 'playerjs', 'audio'],\n",
    "      'html': '<div style=\"left: 0; width: 100%; height: 180px; position: relative;\"><iframe src=\"https://omny.fm/shows/odd-lots/richard-koo-on-chinas-risk-of-japanification/embed?style=cover\" style=\"top: 0; left: 0; width: 100%; height: 100%; position: absolute; border: 0;\" allowfullscreen></iframe></div>',\n",
    "      'dimension': {'width': None,\n",
    "       'height': 180,\n",
    "       'minWidth': None,\n",
    "       'minHeight': None,\n",
    "       'maxWidth': None,\n",
    "       'maxHeight': None,\n",
    "       'aspectRatio': None,\n",
    "       '__typename': 'IframeDimension'},\n",
    "      'meta': {'author': 'Odd Lots',\n",
    "       'author_url': 'https://bloomberg.com/podcasts/odd_lots',\n",
    "       'canonical': 'https://omny.fm/shows/odd-lots/richard-koo-on-chinas-risk-of-japanification',\n",
    "       'description': \"Richard Koo literally wrote the book on balance sheet recessions, or the idea that large levels of debt can weigh on future growth for years and even decades to come. Now, the Nomura Research Institute chief economist sees a similar risk emerging in China. The country has been struggling with vast levels of debt and slowing economic growth in the wake of the Covid-19 pandemic. In this episode, Koo discusses the signs he sees that a balance sheet recession is already underway as China's companies shy away from borrowing more money for future investment. He also suggests some ideas for just what China's authorities should do about it.\",\n",
    "       'site': 'Omny Studio',\n",
    "       'title': \"Richard Koo on China's Risk of 'Japanification' - Odd Lots\",\n",
    "       '__typename': 'IframeMeta'},\n",
    "      '__typename': 'Iframe'}})"
   ]
  }
 ],
 "metadata": {
  "interpreter": {
   "hash": "25bf1dab56f13e21d80318cd5e789e076f92a14fa9924f370a2a818164c863f4"
  },
  "kernelspec": {
   "display_name": "Python 3.9.6 64-bit",
   "language": "python",
   "name": "python3"
  },
  "language_info": {
   "codemirror_mode": {
    "name": "ipython",
    "version": 3
   },
   "file_extension": ".py",
   "mimetype": "text/x-python",
   "name": "python",
   "nbconvert_exporter": "python",
   "pygments_lexer": "ipython3",
   "version": "3.10.11"
  },
  "orig_nbformat": 4
 },
 "nbformat": 4,
 "nbformat_minor": 2
}
