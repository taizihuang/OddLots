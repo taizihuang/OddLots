{
 "cells": [
  {
   "cell_type": "code",
   "execution_count": 1,
   "metadata": {},
   "outputs": [
    {
     "name": "stderr",
     "output_type": "stream",
     "text": [
      "c:\\Users\\PC\\AppData\\Local\\Programs\\Python\\Python39\\lib\\site-packages\\requests\\__init__.py:102: RequestsDependencyWarning: urllib3 (1.26.6) or chardet (5.0.0)/charset_normalizer (2.0.4) doesn't match a supported version!\n",
      "  warnings.warn(\"urllib3 ({}) or chardet ({})/charset_normalizer ({}) doesn't match a supported \"\n"
     ]
    }
   ],
   "source": [
    "import requests,json,random,time,hashlib,math\n",
    "\n",
    "def genSign(data):\n",
    "    k1 = {\"0\": 0, \"1\": 1, \"2\": 2, \"3\": 3, \"4\": 4, \"5\": 5, \"6\": 6, \"7\": 7, \"8\": 8, \"9\": 9, \"A\": 10, \"B\": 11, \"C\": 12,\n",
    "        \"D\": 13, \"E\": 14, \"F\": 15}\n",
    "    l1 = [212, 45, 80, 68, 195, 163, 163, 203, 157, 220, 254, 91, 204, 79, 104, 6]\n",
    "    t = \"ABCDEFGHIJKLMNOPQRSTUVWXYZabcdefghijklmnopqrstuvwxyz0123456789+/=\"\n",
    "\n",
    "    text = json.dumps(data, separators=(',', ':'))\n",
    "    md5 = hashlib.md5(text.encode()).hexdigest().upper()\n",
    "\n",
    "    t1 = ''.join([md5[i] for i in [21, 4, 9, 26, 16, 20, 27, 30]])\n",
    "    t3 = ''.join([md5[i] for i in [18, 11, 3, 2, 1, 7, 6, 25]])\n",
    "\n",
    "    ls2 = []\n",
    "    for i in range(16):\n",
    "        x1 = k1[md5[i * 2]]\n",
    "        x2 = k1[md5[i * 2 + 1]]\n",
    "        x3 = ((x1 * 16) ^ x2) ^ l1[i]\n",
    "        ls2.append(x3)\n",
    "\n",
    "    ls3 = []\n",
    "    for i in range(6):\n",
    "        if i == 5:\n",
    "            ls3.append(t[ls2[-1] >> 2])\n",
    "            ls3.append(t[(ls2[-1] & 3) << 4])\n",
    "        else:\n",
    "            x4 = ls2[i * 3] >> 2\n",
    "            x5 = (ls2[i * 3 + 1] >> 4) ^ ((ls2[i * 3] & 3) << 4)\n",
    "            x6 = (ls2[i * 3 + 2] >> 6) ^ ((ls2[i * 3 + 1] & 15) << 2)\n",
    "            x7 = 63 & ls2[i * 3 + 2]\n",
    "            ls3.extend(t[x4] + t[x5] + t[x6] + t[x7])\n",
    "\n",
    "    t2 = ''.join(ls3).replace('[\\\\/+]', '')\n",
    "    sign = 'zzb' + t1 + t2 + t3\n",
    "    return sign.lower()"
   ]
  },
  {
   "cell_type": "code",
   "execution_count": 3,
   "metadata": {},
   "outputs": [],
   "source": [
    "def fetchPlaylist(id):\n",
    "    url = 'http://c.y.qq.com/qzone/fcg-bin/fcg_ucc_getcdinfo_byids_cp.fcg'\n",
    "    data = {\"type\":1,\"json\":1,\"utf8\":1,\"disstid\":id,\"loginUin\":0}\n",
    "    headers = {\n",
    "        'referer': 'https://y.qq.com/n/yqq/playlist',\n",
    "        \"user-agent\": \"Mozilla/5.0 (Windows NT 10.0; Win64; x64) AppleWebKit/537.36 (KHTML, like Gecko) Chrome/80.0.3987.132 Safari/537.36\",\n",
    "    }\n",
    "    doc = requests.get(url,params=data,headers=headers).content\n",
    "    l = json.loads(doc.decode('utf8').replace('jsonCallback(','')[:-1])\n",
    "    mid_list = [(t['songmid'],t['songname'][:30]) for t in l['cdlist'][0]['songlist']]\n",
    "    return mid_list\n",
    "\n",
    "def fetchAlbumList(mid):\n",
    "    url = 'https://u.y.qq.com/cgi-bin/musicu.fcg'\n",
    "    data = {\"albumSonglist\":{\"method\":\"GetAlbumSongList\",\"module\":\"music.musichallAlbum.AlbumSongList\",\"param\":{\"albumMid\":mid,\"albumID\":0,\"begin\":0,\"num\":999,\"order\":2}}}\n",
    "    params = {'data': json.dumps(data, separators=(',', ':'))}\n",
    "    doc = json.loads(requests.get(url,params=params).content)\n",
    "    if doc['code'] == 0:\n",
    "        album_list = [(s['songInfo']['mid'], s['songInfo']['name']) for s in doc['albumSonglist']['data']['songList']]\n",
    "    return album_list\n",
    "    \n",
    "def fetchFilename(mid,media_type=''):\n",
    "    \n",
    "    typeMap = {\n",
    "    \"m4a\": ['C400','.m4a','size_96aac'],\n",
    "    \"128\": ['M500','.mp3','size_128mp3'],\n",
    "    \"320\": ['M800','.mp3','size_320mp3'],\n",
    "    \"ape\": ['A000','.ape','size_ape'],\n",
    "    \"flac\": ['F000','.flac','size_flac']\n",
    "    }\n",
    "\n",
    "    url = 'http://u.y.qq.com/cgi-bin/musicu.fcg'\n",
    "    data = {\"songinfo\": {\"method\": \"get_song_detail_yqq\",\"module\": \"music.pf_song_detail_svr\",\"param\": {\"song_mid\": mid}}}\n",
    "    params = {'data': json.dumps(data, separators=(',', ':'))}\n",
    "    doc = requests.get(url,params=params).content\n",
    "    info = json.loads(doc)\n",
    "\n",
    "    if info['code'] == 0:\n",
    "        file = info['songinfo']['data']['track_info']['file']\n",
    "        media_mid  = file['media_mid']\n",
    "\n",
    "        if media_type == '' or file[typeMap[media_type][2]] == 0:\n",
    "            for t in typeMap.keys():\n",
    "                if file[typeMap[t][2]] > 0:\n",
    "                    media_type = t\n",
    "\n",
    "        filename = typeMap[media_type][0]+media_mid+typeMap[media_type][1]\n",
    "    else:\n",
    "        filename = ''\n",
    "\n",
    "    return filename\n",
    "\n",
    "\n",
    "def fetchLink(mid,qqmusic_key):\n",
    "\n",
    "    if 'Q' == qqmusic_key[0]:\n",
    "        uin = '1451372807'\n",
    "    else:\n",
    "        uin = \"1152921504615918390\"\n",
    "    url = 'https://u.y.qq.com/cgi-bin/musicu.fcg'\n",
    "    data = {\"comm\":{\"cv\":4747474,\"ct\":24,\"format\":\"json\",\"inCharset\":\"utf-8\",\"outCharset\":\"utf-8\",\"notice\":0,\"platform\":\"yqq.json\",\"needNewCode\":1,\"uin\":uin,\"authst\": qqmusic_key},\"req_0\":{\"module\":\"vkey.GetVkeyServer\",\"method\":\"CgiGetVkey\",\"param\":{\"guid\":\"9778124750\",\"songmid\":[mid],\"songtype\":[0],\"uin\":uin,\"loginflag\":1,\"platform\":\"20\",\"filename\":[fetchFilename(mid)]}}}\n",
    "\n",
    "    headers = {\n",
    "        \"content-type\": \"application/x-www-form-urlencoded\",\n",
    "        \"user-agent\": \"Mozilla/5.0 (Windows NT 10.0; Win64; x64) AppleWebKit/537.36 (KHTML, like Gecko) Chrome/80.0.3987.132 Safari/537.36\",\n",
    "        #\"cookie\": f'wxuin={uin}; qm_keyst={qm_keys};',\n",
    "    }\n",
    "\n",
    "    params = {\n",
    "        '_': math.floor(time.time()*1000),\n",
    "        'sign': genSign(data),\n",
    "        'data': json.dumps(data, separators=(',', ':'))\n",
    "    }\n",
    "    l = json.loads(requests.get(url, params=params, headers=headers).content)\n",
    "\n",
    "    if l['code'] == 0:\n",
    "        link = 'https://dl.stream.qqmusic.qq.com/' + l['req_0']['data']['midurlinfo'][0]['purl']\n",
    "    else:\n",
    "        print('Cookie expired')\n",
    "        link = ''\n",
    "    return link"
   ]
  },
  {
   "cell_type": "code",
   "execution_count": null,
   "metadata": {},
   "outputs": [],
   "source": [
    "fetchAlbumList()"
   ]
  },
  {
   "cell_type": "code",
   "execution_count": 5,
   "metadata": {},
   "outputs": [
    {
     "data": {
      "text/plain": [
       "'https://dl.stream.qqmusic.qq.com/M500002Hgk1u1mKY6V.mp3?guid=9778124750&vkey=0C7DB8555C849DB5A3E0743E5FEA75530B87FA4D388990E18ADEE9B80DF37E1A21895BD2ACA052B0C4ED82134CC4FA810724D2ADDD3A94F7&uin=1451372807&fromtag=120042'"
      ]
     },
     "execution_count": 5,
     "metadata": {},
     "output_type": "execute_result"
    }
   ],
   "source": [
    "qqmusic_key = 'Q_H_L_5yA8-l56IiVE8xw7NP5oGAL9l9fHe-8pqN0r7o5NMw30tHMZPAyy4vA'\n",
    "fetchLink('001OPw5a3M3iSf',qqmusic_key)"
   ]
  },
  {
   "cell_type": "code",
   "execution_count": null,
   "metadata": {},
   "outputs": [],
   "source": []
  }
 ],
 "metadata": {
  "kernelspec": {
   "display_name": "Python 3.9.6 64-bit",
   "language": "python",
   "name": "python3"
  },
  "language_info": {
   "codemirror_mode": {
    "name": "ipython",
    "version": 3
   },
   "file_extension": ".py",
   "mimetype": "text/x-python",
   "name": "python",
   "nbconvert_exporter": "python",
   "pygments_lexer": "ipython3",
   "version": "3.9.6"
  },
  "orig_nbformat": 4,
  "vscode": {
   "interpreter": {
    "hash": "f6c8f846148a3e4d140e6ddf63c190cff559dcf260a4a21539f0978f2b58638c"
   }
  }
 },
 "nbformat": 4,
 "nbformat_minor": 2
}
